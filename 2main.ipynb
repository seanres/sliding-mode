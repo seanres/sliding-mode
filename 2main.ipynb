{
 "cells": [
  {
   "cell_type": "code",
   "execution_count": null,
   "metadata": {},
   "outputs": [],
   "source": [
    "import math\n",
    "import numpy as np"
   ]
  },
  {
   "cell_type": "code",
   "execution_count": 1,
   "metadata": {},
   "outputs": [
    {
     "name": "stdout",
     "output_type": "stream",
     "text": [
      "The end position of the robotic arm is (0, 0)\n"
     ]
    }
   ],
   "source": [
    "class Actuator:\n",
    "    def __init__(self, initial_torque):\n",
    "        self.torque = initial_torque\n",
    "\n",
    "    def apply_torque(self, torque):\n",
    "        self.torque = torque\n",
    "        # Implement the logic to apply torque to the joint\n",
    "\n",
    "\n",
    "class Sensor:\n",
    "    def __init__(self):\n",
    "        self.position = 0\n",
    "        self.velocity = 0\n",
    "        self.acceleration = 0\n",
    "\n",
    "    def update_readings(self, position, velocity, acceleration):\n",
    "        self.position = position\n",
    "        self.velocity = velocity\n",
    "        self.acceleration = acceleration\n",
    "        # Update sensor readings based on the joint's movement\n",
    "\n",
    "\n",
    "class Joint:\n",
    "    def __init__(self, actuator, sensor, initial_degree):\n",
    "        self.actuator = actuator\n",
    "        self.sensor = sensor\n",
    "        self.degree = initial_degree\n",
    "\n",
    "    def move(self, torque):\n",
    "        # Use the actuator to apply torque\n",
    "        self.actuator.apply_torque(torque)\n",
    "        # Logic for moving the joint and updating the sensor readings\n",
    "        # For example:\n",
    "        self.sensor.update_readings(self.degree, 0, 0)  # Placeholder values\n",
    "\n",
    "\n",
    "class RoboticArm:\n",
    "    def __init__(self):\n",
    "        self.joint1 = Joint(Actuator(initial_torque=0), Sensor(), initial_degree=0)\n",
    "        self.joint2 = Joint(Actuator(initial_torque=0), Sensor(), initial_degree=0)\n",
    "        self.position_sensor = Sensor()\n",
    "\n",
    "    def move_joints(self, torque1, torque2):\n",
    "        self.joint1.move(torque1)\n",
    "        self.joint2.move(torque2)\n",
    "        # Logic to determine the end position based on joint movements\n",
    "        # Update position sensor\n",
    "        self.position_sensor.update_readings(0, 0, 0)  # Placeholder values\n",
    "\n",
    "    def get_end_position(self):\n",
    "        # Calculate the end position of the robotic arm\n",
    "        # Return end position\n",
    "        return (0, 0)  # Placeholder values\n",
    "\n",
    "\n",
    "# Example usage:\n",
    "robotic_arm = RoboticArm()\n",
    "robotic_arm.move_joints(torque1=10, torque2=20)\n",
    "end_position = robotic_arm.get_end_position()\n",
    "print(f\"The end position of the robotic arm is {end_position}\")"
   ]
  },
  {
   "cell_type": "code",
   "execution_count": 3,
   "metadata": {},
   "outputs": [
    {
     "data": {
      "text/plain": [
       "array([10.70265402,  0.50780297])"
      ]
     },
     "execution_count": 3,
     "metadata": {},
     "output_type": "execute_result"
    }
   ],
   "source": [
    "# Define the parameters and state variables\n",
    "m1, m2 = 0.8, 0.4  # masses of the links\n",
    "l1, l2 = 1.0, 0.5  # lengths of the links\n",
    "g = 9.81  # acceleration due to gravity\n",
    "theta1, theta2 = np.radians(30), np.radians(45)  # joint angles in radians\n",
    "dtheta1, dtheta2 = 0.0, 0.0  # joint angular velocities\n",
    "ddtheta1, ddtheta2 = 0.0, 0.0  # joint angular accelerations\n",
    "\n",
    "# Define the equations using numpy for trigonometric functions and linear algebra\n",
    "def calculate_torques(theta1, theta2, dtheta1, dtheta2, ddtheta1, ddtheta2):\n",
    "    D11 = (m1 + m2) * l1**2 + m2 * l2**2 + 2 * m2 * l1 * l2 * np.cos(theta2)\n",
    "    D12 = D21 = m2 * l2**2 + m2 * l1 * l2 * np.cos(theta2)\n",
    "    D22 = m2 * l2**2\n",
    "\n",
    "    C1 = -m2 * l1 * l2 * np.sin(theta2) * dtheta2**2 - m2 * l1 * l2 * np.sin(theta2) * (dtheta1 + dtheta2)\n",
    "    C2 = m2 * l1 * l2 * np.sin(theta2) * dtheta1**2\n",
    "\n",
    "    G1 = (m1 + m2) * g * l1 * np.cos(theta1) + m2 * g * l2 * np.cos(theta1 + theta2)\n",
    "    G2 = m2 * g * l2 * np.cos(theta1 + theta2)\n",
    "\n",
    "    # Inertia matrix\n",
    "    D = np.array([[D11, D12],\n",
    "                  [D21, D22]])\n",
    "    \n",
    "    # Coriolis and centrifugal vector\n",
    "    C = np.array([C1, C2])\n",
    "    \n",
    "    # Gravity vector\n",
    "    G = np.array([G1, G2])\n",
    "    \n",
    "    # Angular acceleration vector\n",
    "    ddtheta = np.array([ddtheta1, ddtheta2])\n",
    "    \n",
    "    # Calculate torques\n",
    "    T = np.dot(D, ddtheta) + C + G\n",
    "    return T\n",
    "\n",
    "# Calculate torques for the given state\n",
    "torques = calculate_torques(theta1, theta2, dtheta1, dtheta2, ddtheta1, ddtheta2)\n",
    "torques"
   ]
  },
  {
   "cell_type": "code",
   "execution_count": null,
   "metadata": {},
   "outputs": [],
   "source": [
    "def control(theta1, d_theta1, DD_theta1, theta2, d_theta2, DD_theta2, lambda1, de1, lambda2, de2):\n",
    "    # Constants\n",
    "    l1 = 1; m1 = 0.8; l2 = 0.5; m2 = 0.4; g = 9.8\n",
    "    \n",
    "    # Inertia matrix components\n",
    "    D11 = (m1 + m2) * l1**2 + m2 * l2**2 + 2 * m2 * l1 * l2 * np.cos(theta2)\n",
    "    D12 = m2 * l2**2 + m2 * l1 * l2 * np.cos(theta2)\n",
    "    D21 = D12  # since D12 == D21 in a symmetric matrix\n",
    "    D22 = m2 * l2**2\n",
    "    \n",
    "    # Coriolis and centrifugal force vector components\n",
    "    Z = m2 * l1 * l2 * np.sin(theta2)\n",
    "    \n",
    "    # Gravity vector components\n",
    "    G1 = (m1 + m2) * g * l1 * np.cos(theta1) + m2 * g * l2 * np.cos(theta1 + theta2)\n",
    "    G2 = m2 * g * l2 * np.cos(theta1 + theta2)\n",
    "    \n",
    "    # Torque inputs\n",
    "    T1 = D11 * DD_theta1 + D12 * DD_theta2 - Z * d_theta2**2 + G1\n",
    "    T2 = D21 * DD_theta1 + D22 * DD_theta2 + Z * d_theta1**2 + G2\n",
    "    \n",
    "    # Control outputs\n",
    "    y1 = -T1 + DD_theta1 - lambda1 * de1\n",
    "    y2 = -T2 + DD_theta2 - lambda2 * de2\n",
    "    \n",
    "    return y1, y2\n",
    "\n",
    "# Example usage:\n",
    "theta1, d_theta1, DD_theta1 = np.radians(30), 0, 0\n",
    "theta2, d_theta2, DD_theta2 = np.radians(45), 0, 0\n",
    "lambda1, de1 = 5, 0.1\n",
    "lambda2, de2 = 5, 0.1\n",
    "\n",
    "y1, y2 = control(theta1, d_theta1, DD_theta1, theta2, d_theta2, DD_theta2, lambda1, de1, lambda2, de2)\n",
    "print(f\"Control Output 1: {y1}, Control Output 2: {y2}\")"
   ]
  },
  {
   "cell_type": "code",
   "execution_count": null,
   "metadata": {},
   "outputs": [],
   "source": [
    "def smc_signal(e, d_e, K, lambda_, delay):\n",
    "    s = lambda_ * e + d_e\n",
    "    if abs(s) > delay:\n",
    "        sat_s = np.sign(s)\n",
    "    else:\n",
    "        sat_s = s / delay\n",
    "    SMC_Signal = -K * sat_s\n",
    "    return SMC_Signal\n",
    "\n",
    "# Example usage:\n",
    "e = 0.1  # error\n",
    "d_e = 0.01  # derivative of error\n",
    "K = 5  # gain\n",
    "lambda_ = 2  # lambda\n",
    "delay = 0.01  # delay\n",
    "\n",
    "signal = smc_signal(e, d_e, K, lambda_, delay)\n",
    "print(f\"SMC Signal: {signal}\")"
   ]
  },
  {
   "cell_type": "code",
   "execution_count": null,
   "metadata": {},
   "outputs": [],
   "source": [
    "t = np.linspace(0, 10, 500)  # 10 seconds, 500 points\n",
    "\n",
    "# Sinusoidal input for desired x value\n",
    "amplitude = 1  # Amplitude of the sine wave\n",
    "frequency = 1  # Frequency (number of cycles per second)\n",
    "desired_x = amplitude * np.sin(2 * np.pi * frequency * t)"
   ]
  }
 ],
 "metadata": {
  "kernelspec": {
   "display_name": "39bo",
   "language": "python",
   "name": "python3"
  },
  "language_info": {
   "codemirror_mode": {
    "name": "ipython",
    "version": 3
   },
   "file_extension": ".py",
   "mimetype": "text/x-python",
   "name": "python",
   "nbconvert_exporter": "python",
   "pygments_lexer": "ipython3",
   "version": "3.9.17"
  }
 },
 "nbformat": 4,
 "nbformat_minor": 2
}

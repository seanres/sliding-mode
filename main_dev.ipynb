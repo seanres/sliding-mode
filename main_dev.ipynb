{
 "cells": [
  {
   "cell_type": "code",
   "execution_count": 113,
   "metadata": {},
   "outputs": [],
   "source": [
    "import numpy as np\n",
    "from sympy.parsing.latex import parse_latex\n",
    "from sympy import symbols, cos, sin, collect, diff, print_latex, latex\n",
    "from sympy import Eq, Add, expand, simplify, collect, factor, Matrix"
   ]
  },
  {
   "cell_type": "code",
   "execution_count": 140,
   "metadata": {},
   "outputs": [],
   "source": [
    "# Defining the symbols\n",
    "g, l1, l2, l3, m1, m2, m3, M1, M2, M3 = symbols('g l1 l2 l3 m1 m2 m3 M1 M2 M3')\n",
    "theta1, theta2, theta3, dtheta1, dtheta2, dtheta3, ddtheta1, ddtheta2, ddtheta3 = symbols(\n",
    "    'theta1 theta2 theta3 dtheta1 dtheta2 dtheta3 ddtheta1 ddtheta2 ddtheta3')\n",
    "\n",
    "# Equation 1\n",
    "eq1 = (\n",
    "    3*g*l3*m3*cos(theta1 + theta2 + theta3) + 3*g*l2*(m2 + 2*m3)*cos(theta1 + theta2) +\n",
    "    3*g*l1*(m1 + 2*(m2 + m3))*cos(theta1) - 2*l3*m3*(l1*(dtheta2 + dtheta3)*(2*dtheta1 + dtheta2 + dtheta3)*sin(theta2 + theta3) +\n",
    "    l2*dtheta3*(2*(dtheta1 + dtheta2) + dtheta3)*sin(theta3)) - 3*l1*l2*(m2 + 2*m3)*dtheta2*(2*dtheta1 + dtheta2)*sin(theta2) +\n",
    "    l3*m3*ddtheta3*(3*l1*cos(theta2 + theta3) + 3*l2*cos(theta3) + 2*l3) + 6*ddtheta1*(l2*l1*(m2 + 2*m3)*cos(theta1) +\n",
    "    l3*m3*(l1*cos(theta2 + theta3) + l2*cos(theta3) + l3/3) + l1**2*(m1/3 + m2 + m3) + l2**2*(m2/3 + m3)) +\n",
    "    6*ddtheta2*(l1*l2*(m2/2 + m3)*cos(theta2) + 1/6*l3*m3*(3*l1*cos(theta2 + theta3) + 6*l2*cos(theta3) + 2*l3) + l2**2*(m2/3 + m3))\n",
    "    - 6*M1\n",
    ")\n",
    "\n",
    "# Equation 2\n",
    "eq2 = (\n",
    "    3*g*l3*m3*cos(theta1 + theta2 + theta3) + 3*g*l2*(m2 + 2*m3)*cos(theta1 + theta2) +\n",
    "    3*l1*l2*(m2 + 2*m3)*dtheta1**2*sin(theta2) - 3*l3*m3*(l2*dtheta3*(2*dtheta1 + 3*dtheta3)*sin(theta3) -\n",
    "    l1*dtheta1**2*sin(theta2 + theta3)) + 6*ddtheta1*(l1*l2*(m2/2 + m3)*cos(theta2) + 1/6*l3*m3*(3*l1*cos(theta2 + theta3) +\n",
    "    6*l2*cos(theta3) + 2*l3) + l2**2*(m2/3 + m3)) + 2*ddtheta2*(3*l3*l2*m3*cos(theta3) + l2**2*(m2 + 3*m3) +\n",
    "    l2**2*m3) + l3*m3*ddtheta3*(3*l2*cos(theta3) + 2*l3) - 6*M2\n",
    ")\n",
    "\n",
    "# Equation 3\n",
    "eq3 = (\n",
    "    l3*m3*(3*g*cos(theta1 + theta2 + theta3) + 12*l2*ddtheta3 + 6*ddtheta1*(3*l1*cos(theta2 + theta3) +\n",
    "    3*l2*cos(theta3) + 2*l2) + 6*ddtheta2*(3*l2*cos(theta3) + 2*l3)) - 6*M3\n",
    ")\n",
    "\n",
    "# # Extracting coefficients of ddtheta1, ddtheta2, ddtheta3 for D matrix\n",
    "# D11, D12, D13 = eq1.coeff(ddtheta1), eq1.coeff(ddtheta2), eq1.coeff(ddtheta3)\n",
    "# D21, D22, D23 = eq2.coeff(ddtheta1), eq2.coeff(ddtheta2), eq2.coeff(ddtheta3)\n",
    "# D31, D32, D33 = eq3.coeff(ddtheta1), eq3.coeff(ddtheta2), eq3.coeff(ddtheta3)\n",
    "\n",
    "# def extract_g_terms(eq):\n",
    "#     # Collect terms and exclude dtheta and ddtheta terms\n",
    "#     collected_eq = collect(eq, [dtheta1, dtheta2, dtheta3, ddtheta1, ddtheta2, ddtheta3], evaluate=False)\n",
    "#     # Constant term\n",
    "#     g_term = collected_eq.get(1, 0)\n",
    "\n",
    "#     return g_term\n",
    "\n",
    "# G1 = extract_g_terms(eq1)\n",
    "# G2 = extract_g_terms(eq2)\n",
    "# G3 = extract_g_terms(eq3)\n",
    "\n",
    "# C1, C2, C3 = eq1.coeff(dtheta1), eq1.coeff(dtheta2), eq1.coeff(dtheta3)\n",
    "\n",
    "# # Expand the equations first\n",
    "# expanded_eq1 = eq1.expand()\n",
    "# expanded_eq2 = eq2.expand()\n",
    "# expanded_eq3 = eq3.expand()\n",
    "\n",
    "# latex_eq1 = latex(expanded_eq1)\n",
    "# latex_eq2 = latex(expanded_eq2)\n",
    "# latex_eq3 = latex(expanded_eq3)"
   ]
  },
  {
   "cell_type": "code",
   "execution_count": 162,
   "metadata": {},
   "outputs": [],
   "source": [
    "# Expand the equations first\n",
    "expanded_eq1 = eq1.expand()\n",
    "expanded_eq2 = eq2.expand()\n",
    "expanded_eq3 = eq3.expand()\n",
    "\n",
    "# Collect and then extract coefficients for the D matrix\n",
    "collected_eq1 = collect(expanded_eq1, [dtheta1, dtheta2, dtheta3, ddtheta1, ddtheta2, ddtheta3, g])\n",
    "collected_eq2 = collect(expanded_eq2, [dtheta1, dtheta2, dtheta3, ddtheta1, ddtheta2, ddtheta3, g])\n",
    "collected_eq3 = collect(expanded_eq3, [dtheta1, dtheta2, dtheta3, ddtheta1, ddtheta2, ddtheta3, g])\n",
    "\n",
    "modified_eq1 = collected_eq1.copy()\n",
    "modified_eq2 = collected_eq2.copy()\n",
    "modified_eq3 = collected_eq3.copy()\n",
    "\n",
    "D11, D12, D13 = modified_eq1.coeff(ddtheta1), modified_eq1.coeff(ddtheta2), modified_eq1.coeff(ddtheta3)\n",
    "modified_eq1 -= D11 * ddtheta1\n",
    "modified_eq1 -= D12 * ddtheta2\n",
    "modified_eq1 -= D13 * ddtheta3\n",
    "D21, D22, D23 = modified_eq2.coeff(ddtheta1), modified_eq2.coeff(ddtheta2), modified_eq2.coeff(ddtheta3)\n",
    "modified_eq2 -= D21 * ddtheta1\n",
    "modified_eq2 -= D22 * ddtheta2\n",
    "modified_eq2 -= D23 * ddtheta3\n",
    "D31, D32, D33 = modified_eq3.coeff(ddtheta1), modified_eq3.coeff(ddtheta2), modified_eq3.coeff(ddtheta3)\n",
    "modified_eq3 -= D31 * ddtheta1\n",
    "modified_eq3 -= D32 * ddtheta2\n",
    "modified_eq3 -= D33 * ddtheta3\n",
    "\n",
    "C11, C12, C13 = modified_eq1.coeff(dtheta1), modified_eq1.coeff(dtheta2), modified_eq1.coeff(dtheta3)\n",
    "modified_eq1 -= C11 * dtheta1\n",
    "modified_eq1 -= C12 * dtheta2\n",
    "modified_eq1 -= C13 * dtheta3\n",
    "C21, C22, C23 = modified_eq2.coeff(dtheta1), modified_eq2.coeff(dtheta2), modified_eq2.coeff(dtheta3)\n",
    "modified_eq2 -= C21 * dtheta1\n",
    "modified_eq2 -= C22 * dtheta2\n",
    "modified_eq2 -= C23 * dtheta3\n",
    "C31, C32, C33 = modified_eq3.coeff(dtheta1), modified_eq3.coeff(dtheta2), modified_eq3.coeff(dtheta3)\n",
    "modified_eq3 -= C31 * dtheta1\n",
    "modified_eq3 -= C32 * dtheta2 \n",
    "modified_eq3 -= C33 * dtheta3\n",
    "\n",
    "G1, G2, G3 = modified_eq1.coeff(g), modified_eq2.coeff(g), modified_eq3.coeff(g)\n",
    "modified_eq1 -= G1 * g\n",
    "\n",
    "# D11, D12, D13 = collected_eq1.coeff(ddtheta1), collected_eq1.coeff(ddtheta2), collected_eq1.coeff(ddtheta3)\n",
    "# modified_eq1 -= D11 * ddtheta1\n",
    "# modified_eq1 -= D12 * ddtheta2\n",
    "# modified_eq1 -= D13 * ddtheta3\n",
    "# D21, D22, D23 = collected_eq2.coeff(ddtheta1), collected_eq2.coeff(ddtheta2), collected_eq2.coeff(ddtheta3)\n",
    "# modified_eq2 -= D21 * ddtheta1\n",
    "# modified_eq2 -= D22 * ddtheta2\n",
    "# modified_eq2 -= D23 * ddtheta3\n",
    "# D31, D32, D33 = collected_eq3.coeff(ddtheta1), collected_eq3.coeff(ddtheta2), collected_eq3.coeff(ddtheta3)\n",
    "# modified_eq3 -= D31 * ddtheta1\n",
    "# modified_eq3 -= D32 * ddtheta2\n",
    "# modified_eq3 -= D33 * ddtheta3\n",
    "\n",
    "# C11, C12, C13 = collected_eq1.coeff(dtheta1), collected_eq1.coeff(dtheta2), collected_eq1.coeff(dtheta3)\n",
    "# modified_eq1 -= C11 * ddtheta1\n",
    "# modified_eq1 -= C12 * ddtheta2\n",
    "# modified_eq1 -= C13 * ddtheta3\n",
    "# C21, C22, C23 = collected_eq2.coeff(dtheta1), collected_eq2.coeff(dtheta2), collected_eq2.coeff(dtheta3)\n",
    "# modified_eq2 -= C21 * ddtheta1\n",
    "# modified_eq2 -= C22 * ddtheta2\n",
    "# modified_eq2 -= C23 * ddtheta3\n",
    "# C31, C32, C33 = collected_eq3.coeff(dtheta1), collected_eq3.coeff(dtheta2), collected_eq3.coeff(dtheta3)\n",
    "# modified_eq3 -= C31 * ddtheta1\n",
    "# modified_eq3 -= C32 * ddtheta2\n",
    "# modified_eq3 -= C33 * ddtheta3\n",
    "\n",
    "# G1, G2, G3 = collected_eq1.coeff(g), collected_eq2.coeff(g), collected_eq3.coeff(g)"
   ]
  },
  {
   "cell_type": "code",
   "execution_count": 148,
   "metadata": {},
   "outputs": [
    {
     "name": "stdout",
     "output_type": "stream",
     "text": [
      "- 6 M_{1} + ddtheta_{1} \\cdot \\left(2 l_{1}^{2} m_{1} + 6 l_{1}^{2} m_{2} + 6 l_{1}^{2} m_{3} + 6 l_{1} l_{2} m_{2} \\cos{\\left(\\theta_{1} \\right)} + 12 l_{1} l_{2} m_{3} \\cos{\\left(\\theta_{1} \\right)} + 6 l_{1} l_{3} m_{3} \\cos{\\left(\\theta_{2} + \\theta_{3} \\right)} + 2 l_{2}^{2} m_{2} + 6 l_{2}^{2} m_{3} + 6 l_{2} l_{3} m_{3} \\cos{\\left(\\theta_{3} \\right)} + 2 l_{3}^{2} m_{3}\\right) + ddtheta_{2} \\cdot \\left(3 l_{1} l_{2} m_{2} \\cos{\\left(\\theta_{2} \\right)} + 6 l_{1} l_{2} m_{3} \\cos{\\left(\\theta_{2} \\right)} + 3.0 l_{1} l_{3} m_{3} \\cos{\\left(\\theta_{2} + \\theta_{3} \\right)} + 2 l_{2}^{2} m_{2} + 6 l_{2}^{2} m_{3} + 6.0 l_{2} l_{3} m_{3} \\cos{\\left(\\theta_{3} \\right)} + 2.0 l_{3}^{2} m_{3}\\right) + ddtheta_{3} \\cdot \\left(3 l_{1} l_{3} m_{3} \\cos{\\left(\\theta_{2} + \\theta_{3} \\right)} + 3 l_{2} l_{3} m_{3} \\cos{\\left(\\theta_{3} \\right)} + 2 l_{3}^{2} m_{3}\\right) + dtheta_{1} \\left(- 6 dtheta_{2} l_{1} l_{2} m_{2} \\sin{\\left(\\theta_{2} \\right)} - 12 dtheta_{2} l_{1} l_{2} m_{3} \\sin{\\left(\\theta_{2} \\right)} - 4 dtheta_{2} l_{1} l_{3} m_{3} \\sin{\\left(\\theta_{2} + \\theta_{3} \\right)} - 4 dtheta_{3} l_{1} l_{3} m_{3} \\sin{\\left(\\theta_{2} + \\theta_{3} \\right)} - 4 dtheta_{3} l_{2} l_{3} m_{3} \\sin{\\left(\\theta_{3} \\right)}\\right) + dtheta_{2}^{2} \\left(- 3 l_{1} l_{2} m_{2} \\sin{\\left(\\theta_{2} \\right)} - 6 l_{1} l_{2} m_{3} \\sin{\\left(\\theta_{2} \\right)} - 2 l_{1} l_{3} m_{3} \\sin{\\left(\\theta_{2} + \\theta_{3} \\right)}\\right) + dtheta_{2} \\left(- 4 dtheta_{3} l_{1} l_{3} m_{3} \\sin{\\left(\\theta_{2} + \\theta_{3} \\right)} - 4 dtheta_{3} l_{2} l_{3} m_{3} \\sin{\\left(\\theta_{3} \\right)}\\right) + dtheta_{3}^{2} \\left(- 2 l_{1} l_{3} m_{3} \\sin{\\left(\\theta_{2} + \\theta_{3} \\right)} - 2 l_{2} l_{3} m_{3} \\sin{\\left(\\theta_{3} \\right)}\\right) + g \\left(3 l_{1} m_{1} \\cos{\\left(\\theta_{1} \\right)} + 6 l_{1} m_{2} \\cos{\\left(\\theta_{1} \\right)} + 6 l_{1} m_{3} \\cos{\\left(\\theta_{1} \\right)} + 3 l_{2} m_{2} \\cos{\\left(\\theta_{1} + \\theta_{2} \\right)} + 6 l_{2} m_{3} \\cos{\\left(\\theta_{1} + \\theta_{2} \\right)} + 3 l_{3} m_{3} \\cos{\\left(\\theta_{1} + \\theta_{2} + \\theta_{3} \\right)}\\right)\n"
     ]
    }
   ],
   "source": [
    "print_latex(collected_eq1)"
   ]
  },
  {
   "cell_type": "markdown",
   "metadata": {},
   "source": [
    "$$\n",
    "- 6 M_{1} + ddtheta_{1} \\cdot \\left(2 l_{1}^{2} m_{1} + 6 l_{1}^{2} m_{2} + 6 l_{1}^{2} m_{3} + 6 l_{1} l_{2} m_{2} \\cos{\\left(\\theta_{1} \\right)} + 12 l_{1} l_{2} m_{3} \\cos{\\left(\\theta_{1} \\right)} + 6 l_{1} l_{3} m_{3} \\cos{\\left(\\theta_{2} + \\theta_{3} \\right)} + 2 l_{2}^{2} m_{2} + 6 l_{2}^{2} m_{3} + 6 l_{2} l_{3} m_{3} \\cos{\\left(\\theta_{3} \\right)} + 2 l_{3}^{2} m_{3}\\right) + ddtheta_{2} \\cdot \\left(3 l_{1} l_{2} m_{2} \\cos{\\left(\\theta_{2} \\right)} + 6 l_{1} l_{2} m_{3} \\cos{\\left(\\theta_{2} \\right)} + 3.0 l_{1} l_{3} m_{3} \\cos{\\left(\\theta_{2} + \\theta_{3} \\right)} + 2 l_{2}^{2} m_{2} + 6 l_{2}^{2} m_{3} + 6.0 l_{2} l_{3} m_{3} \\cos{\\left(\\theta_{3} \\right)} + 2.0 l_{3}^{2} m_{3}\\right) + ddtheta_{3} \\cdot \\left(3 l_{1} l_{3} m_{3} \\cos{\\left(\\theta_{2} + \\theta_{3} \\right)} + \n",
    "3 l_{2} l_{3} m_{3} \\cos{\\left(\\theta_{3} \\right)} + 2 l_{3}^{2} m_{3}\\right) + dtheta_{1} \\left(- 6 dtheta_{2} l_{1} l_{2} m_{2} \\sin{\\left(\\theta_{2} \\right)} - 12 dtheta_{2} l_{1} l_{2} m_{3} \\sin{\\left(\\theta_{2} \\right)} - 4 dtheta_{2} l_{1} l_{3} m_{3} \\sin{\\left(\\theta_{2} + \\theta_{3} \\right)} - 4 dtheta_{3} l_{1} l_{3} m_{3} \\sin{\\left(\\theta_{2} + \\theta_{3} \\right)} - 4 dtheta_{3} l_{2} l_{3} m_{3} \\sin{\\left(\\theta_{3} \\right)}\\right) + \n",
    "dtheta_{2}^{2} \\left(- 3 l_{1} l_{2} m_{2} \\sin{\\left(\\theta_{2} \\right)} - 6 l_{1} l_{2} m_{3} \\sin{\\left(\\theta_{2} \\right)} - 2 l_{1} l_{3} m_{3} \\sin{\\left(\\theta_{2} + \\theta_{3} \\right)}\\right) + dtheta_{2} \\left(- 4 dtheta_{3} l_{1} l_{3} m_{3} \\sin{\\left(\\theta_{2} + \\theta_{3} \\right)} - 4 dtheta_{3} l_{2} l_{3} m_{3} \\sin{\\left(\\theta_{3} \\right)}\\right) + dtheta_{3}^{2} \\left(- 2 l_{1} l_{3} m_{3} \\sin{\\left(\\theta_{2} + \\theta_{3} \\right)} - 2 l_{2} l_{3} m_{3} \\sin{\\left(\\theta_{3} \\right)}\\right) + g \\left(3 l_{1} m_{1} \\cos{\\left(\\theta_{1} \\right)} + 6 l_{1} m_{2} \\cos{\\left(\\theta_{1} \\right)} + 6 l_{1} m_{3} \\cos{\\left(\\theta_{1} \\right)} + 3 l_{2} m_{2} \\cos{\\left(\\theta_{1} + \\theta_{2} \\right)} + 6 l_{2} m_{3} \\cos{\\left(\\theta_{1} + \\theta_{2} \\right)} + 3 l_{3} m_{3} \\cos{\\left(\\theta_{1} + \\theta_{2} + \\theta_{3} \\right)}\\right)\n",
    "\n",
    "$$"
   ]
  },
  {
   "cell_type": "code",
   "execution_count": 167,
   "metadata": {},
   "outputs": [
    {
     "data": {
      "text/latex": [
       "$\\displaystyle - 6 M_{1} + dtheta_{2}^{2} \\left(- 3 l_{1} l_{2} m_{2} \\sin{\\left(\\theta_{2} \\right)} - 6 l_{1} l_{2} m_{3} \\sin{\\left(\\theta_{2} \\right)} - 2 l_{1} l_{3} m_{3} \\sin{\\left(\\theta_{2} + \\theta_{3} \\right)}\\right) + dtheta_{3}^{2} \\left(- 2 l_{1} l_{3} m_{3} \\sin{\\left(\\theta_{2} + \\theta_{3} \\right)} - 2 l_{2} l_{3} m_{3} \\sin{\\left(\\theta_{3} \\right)}\\right)$"
      ],
      "text/plain": [
       "-6*M1 + dtheta2**2*(-3*l1*l2*m2*sin(theta2) - 6*l1*l2*m3*sin(theta2) - 2*l1*l3*m3*sin(theta2 + theta3)) + dtheta3**2*(-2*l1*l3*m3*sin(theta2 + theta3) - 2*l2*l3*m3*sin(theta3))"
      ]
     },
     "execution_count": 167,
     "metadata": {},
     "output_type": "execute_result"
    }
   ],
   "source": [
    "modified_eq1"
   ]
  },
  {
   "cell_type": "code",
   "execution_count": 165,
   "metadata": {},
   "outputs": [
    {
     "data": {
      "text/latex": [
       "$\\displaystyle - 3 l_{1} l_{2} m_{2} \\sin{\\left(\\theta_{2} \\right)} - 6 l_{1} l_{2} m_{3} \\sin{\\left(\\theta_{2} \\right)} - 2 l_{1} l_{3} m_{3} \\sin{\\left(\\theta_{2} + \\theta_{3} \\right)}$"
      ],
      "text/plain": [
       "-3*l1*l2*m2*sin(theta2) - 6*l1*l2*m3*sin(theta2) - 2*l1*l3*m3*sin(theta2 + theta3)"
      ]
     },
     "execution_count": 165,
     "metadata": {},
     "output_type": "execute_result"
    }
   ],
   "source": [
    "modified_eq1.coeff(dtheta2**2)"
   ]
  },
  {
   "cell_type": "code",
   "execution_count": 151,
   "metadata": {},
   "outputs": [
    {
     "data": {
      "text/plain": [
       "True"
      ]
     },
     "execution_count": 151,
     "metadata": {},
     "output_type": "execute_result"
    }
   ],
   "source": [
    "simplify(collected_eq1 - expanded_eq1) == 0"
   ]
  },
  {
   "cell_type": "code",
   "execution_count": 160,
   "metadata": {},
   "outputs": [
    {
     "data": {
      "text/latex": [
       "$\\displaystyle 6.0 M_{1} - 2.0 ddtheta_{1} l_{1}^{2} m_{1} - 6.0 ddtheta_{1} l_{1}^{2} m_{2} - 6.0 ddtheta_{1} l_{1}^{2} m_{3} - 6.0 ddtheta_{1} l_{1} l_{2} m_{2} \\cos{\\left(\\theta_{1} \\right)} - 12.0 ddtheta_{1} l_{1} l_{2} m_{3} \\cos{\\left(\\theta_{1} \\right)} - 6.0 ddtheta_{1} l_{1} l_{3} m_{3} \\cos{\\left(\\theta_{2} + \\theta_{3} \\right)} - 2.0 ddtheta_{1} l_{2}^{2} m_{2} - 6.0 ddtheta_{1} l_{2}^{2} m_{3} - 6.0 ddtheta_{1} l_{2} l_{3} m_{3} \\cos{\\left(\\theta_{3} \\right)} - 2.0 ddtheta_{1} l_{3}^{2} m_{3} - 3.0 ddtheta_{2} l_{1} l_{2} m_{2} \\cos{\\left(\\theta_{2} \\right)} - 6.0 ddtheta_{2} l_{1} l_{2} m_{3} \\cos{\\left(\\theta_{2} \\right)} - 3.0 ddtheta_{2} l_{1} l_{3} m_{3} \\cos{\\left(\\theta_{2} + \\theta_{3} \\right)} - 2.0 ddtheta_{2} l_{2}^{2} m_{2} - 6.0 ddtheta_{2} l_{2}^{2} m_{3} - 6.0 ddtheta_{2} l_{2} l_{3} m_{3} \\cos{\\left(\\theta_{3} \\right)} - 2.0 ddtheta_{2} l_{3}^{2} m_{3} - 3.0 ddtheta_{3} l_{1} l_{3} m_{3} \\cos{\\left(\\theta_{2} + \\theta_{3} \\right)} - 3.0 ddtheta_{3} l_{2} l_{3} m_{3} \\cos{\\left(\\theta_{3} \\right)} - 2.0 ddtheta_{3} l_{3}^{2} m_{3} + 6.0 dtheta_{1} dtheta_{2} l_{1} l_{2} m_{2} \\sin{\\left(\\theta_{2} \\right)} + 12.0 dtheta_{1} dtheta_{2} l_{1} l_{2} m_{3} \\sin{\\left(\\theta_{2} \\right)} + 4.0 dtheta_{1} dtheta_{2} l_{1} l_{3} m_{3} \\sin{\\left(\\theta_{2} + \\theta_{3} \\right)} + 4.0 dtheta_{1} dtheta_{3} l_{1} l_{3} m_{3} \\sin{\\left(\\theta_{2} + \\theta_{3} \\right)} + 4.0 dtheta_{1} dtheta_{3} l_{2} l_{3} m_{3} \\sin{\\left(\\theta_{3} \\right)} + 3.0 dtheta_{2}^{2} l_{1} l_{2} m_{2} \\sin{\\left(\\theta_{2} \\right)} + 6.0 dtheta_{2}^{2} l_{1} l_{2} m_{3} \\sin{\\left(\\theta_{2} \\right)} + 2.0 dtheta_{2}^{2} l_{1} l_{3} m_{3} \\sin{\\left(\\theta_{2} + \\theta_{3} \\right)} + 4.0 dtheta_{2} dtheta_{3} l_{1} l_{3} m_{3} \\sin{\\left(\\theta_{2} + \\theta_{3} \\right)} + 4.0 dtheta_{2} dtheta_{3} l_{2} l_{3} m_{3} \\sin{\\left(\\theta_{3} \\right)} - 6.0 dtheta_{2} l_{1} l_{2} m_{2} \\sin{\\left(\\theta_{2} \\right)} - 12.0 dtheta_{2} l_{1} l_{2} m_{3} \\sin{\\left(\\theta_{2} \\right)} - 4.0 dtheta_{2} l_{1} l_{3} m_{3} \\sin{\\left(\\theta_{2} + \\theta_{3} \\right)} + 2.0 dtheta_{3}^{2} l_{1} l_{3} m_{3} \\sin{\\left(\\theta_{2} + \\theta_{3} \\right)} + 2.0 dtheta_{3}^{2} l_{2} l_{3} m_{3} \\sin{\\left(\\theta_{3} \\right)} - 8.0 dtheta_{3} l_{1} l_{3} m_{3} \\sin{\\left(\\theta_{2} + \\theta_{3} \\right)} - 8.0 dtheta_{3} l_{2} l_{3} m_{3} \\sin{\\left(\\theta_{3} \\right)} - 3.0 g l_{1} m_{1} \\cos{\\left(\\theta_{1} \\right)} - 6.0 g l_{1} m_{2} \\cos{\\left(\\theta_{1} \\right)} - 6.0 g l_{1} m_{3} \\cos{\\left(\\theta_{1} \\right)} - 3.0 g l_{2} m_{2} \\cos{\\left(\\theta_{1} + \\theta_{2} \\right)} - 6.0 g l_{2} m_{3} \\cos{\\left(\\theta_{1} + \\theta_{2} \\right)} - 3.0 g l_{3} m_{3} \\cos{\\left(\\theta_{1} + \\theta_{2} + \\theta_{3} \\right)} + 2.0 l_{1}^{2} m_{1} + 6.0 l_{1}^{2} m_{2} + 6.0 l_{1}^{2} m_{3} + 6.0 l_{1} l_{2} m_{2} \\cos{\\left(\\theta_{1} \\right)} + 3.0 l_{1} l_{2} m_{2} \\cos{\\left(\\theta_{2} \\right)} + 12.0 l_{1} l_{2} m_{3} \\cos{\\left(\\theta_{1} \\right)} + 6.0 l_{1} l_{2} m_{3} \\cos{\\left(\\theta_{2} \\right)} + 12.0 l_{1} l_{3} m_{3} \\cos{\\left(\\theta_{2} + \\theta_{3} \\right)} + 3.0 l_{1} m_{1} \\cos{\\left(\\theta_{1} \\right)} + 6.0 l_{1} m_{2} \\cos{\\left(\\theta_{1} \\right)} + 6.0 l_{1} m_{3} \\cos{\\left(\\theta_{1} \\right)} + 4.0 l_{2}^{2} m_{2} + 12.0 l_{2}^{2} m_{3} + 15.0 l_{2} l_{3} m_{3} \\cos{\\left(\\theta_{3} \\right)} + 3.0 l_{2} m_{2} \\cos{\\left(\\theta_{1} + \\theta_{2} \\right)} + 6.0 l_{2} m_{3} \\cos{\\left(\\theta_{1} + \\theta_{2} \\right)} + 6.0 l_{3}^{2} m_{3} + 3.0 l_{3} m_{3} \\cos{\\left(\\theta_{1} + \\theta_{2} + \\theta_{3} \\right)}$"
      ],
      "text/plain": [
       "6.0*M1 - 2.0*ddtheta1*l1**2*m1 - 6.0*ddtheta1*l1**2*m2 - 6.0*ddtheta1*l1**2*m3 - 6.0*ddtheta1*l1*l2*m2*cos(theta1) - 12.0*ddtheta1*l1*l2*m3*cos(theta1) - 6.0*ddtheta1*l1*l3*m3*cos(theta2 + theta3) - 2.0*ddtheta1*l2**2*m2 - 6.0*ddtheta1*l2**2*m3 - 6.0*ddtheta1*l2*l3*m3*cos(theta3) - 2.0*ddtheta1*l3**2*m3 - 3.0*ddtheta2*l1*l2*m2*cos(theta2) - 6.0*ddtheta2*l1*l2*m3*cos(theta2) - 3.0*ddtheta2*l1*l3*m3*cos(theta2 + theta3) - 2.0*ddtheta2*l2**2*m2 - 6.0*ddtheta2*l2**2*m3 - 6.0*ddtheta2*l2*l3*m3*cos(theta3) - 2.0*ddtheta2*l3**2*m3 - 3.0*ddtheta3*l1*l3*m3*cos(theta2 + theta3) - 3.0*ddtheta3*l2*l3*m3*cos(theta3) - 2.0*ddtheta3*l3**2*m3 + 6.0*dtheta1*dtheta2*l1*l2*m2*sin(theta2) + 12.0*dtheta1*dtheta2*l1*l2*m3*sin(theta2) + 4.0*dtheta1*dtheta2*l1*l3*m3*sin(theta2 + theta3) + 4.0*dtheta1*dtheta3*l1*l3*m3*sin(theta2 + theta3) + 4.0*dtheta1*dtheta3*l2*l3*m3*sin(theta3) + 3.0*dtheta2**2*l1*l2*m2*sin(theta2) + 6.0*dtheta2**2*l1*l2*m3*sin(theta2) + 2.0*dtheta2**2*l1*l3*m3*sin(theta2 + theta3) + 4.0*dtheta2*dtheta3*l1*l3*m3*sin(theta2 + theta3) + 4.0*dtheta2*dtheta3*l2*l3*m3*sin(theta3) - 6.0*dtheta2*l1*l2*m2*sin(theta2) - 12.0*dtheta2*l1*l2*m3*sin(theta2) - 4.0*dtheta2*l1*l3*m3*sin(theta2 + theta3) + 2.0*dtheta3**2*l1*l3*m3*sin(theta2 + theta3) + 2.0*dtheta3**2*l2*l3*m3*sin(theta3) - 8.0*dtheta3*l1*l3*m3*sin(theta2 + theta3) - 8.0*dtheta3*l2*l3*m3*sin(theta3) - 3.0*g*l1*m1*cos(theta1) - 6.0*g*l1*m2*cos(theta1) - 6.0*g*l1*m3*cos(theta1) - 3.0*g*l2*m2*cos(theta1 + theta2) - 6.0*g*l2*m3*cos(theta1 + theta2) - 3.0*g*l3*m3*cos(theta1 + theta2 + theta3) + 2.0*l1**2*m1 + 6.0*l1**2*m2 + 6.0*l1**2*m3 + 6.0*l1*l2*m2*cos(theta1) + 3.0*l1*l2*m2*cos(theta2) + 12.0*l1*l2*m3*cos(theta1) + 6.0*l1*l2*m3*cos(theta2) + 12.0*l1*l3*m3*cos(theta2 + theta3) + 3.0*l1*m1*cos(theta1) + 6.0*l1*m2*cos(theta1) + 6.0*l1*m3*cos(theta1) + 4.0*l2**2*m2 + 12.0*l2**2*m3 + 15.0*l2*l3*m3*cos(theta3) + 3.0*l2*m2*cos(theta1 + theta2) + 6.0*l2*m3*cos(theta1 + theta2) + 6.0*l3**2*m3 + 3.0*l3*m3*cos(theta1 + theta2 + theta3)"
      ]
     },
     "execution_count": 160,
     "metadata": {},
     "output_type": "execute_result"
    }
   ],
   "source": [
    "simplify((D11 + D12 + D13 + C11 + C12 + C13 + G1) - expanded_eq1)"
   ]
  },
  {
   "cell_type": "code",
   "execution_count": 142,
   "metadata": {},
   "outputs": [
    {
     "data": {
      "text/plain": [
       "(6*M1 + 3*dtheta2**2*l1*l2*m2*sin(theta2) + 6*dtheta2**2*l1*l2*m3*sin(theta2) + 2*dtheta2**2*l1*l3*m3*sin(theta2 + theta3) + 4*dtheta2*dtheta3*l1*l3*m3*sin(theta2 + theta3) + 4*dtheta2*dtheta3*l2*l3*m3*sin(theta3) + 2*dtheta3**2*l1*l3*m3*sin(theta2 + theta3) + 2*dtheta3**2*l2*l3*m3*sin(theta3),\n",
       " 6*M2 - 3*dtheta1**2*l1*l2*m2*sin(theta2) - 6*dtheta1**2*l1*l2*m3*sin(theta2) - 3*dtheta1**2*l1*l3*m3*sin(theta2 + theta3) + 6*dtheta1*dtheta3*l2*l3*m3*sin(theta3) - 4*dtheta2*dtheta3*l1*l3*m3*sin(theta2 + theta3) - 4*dtheta2*dtheta3*l2*l3*m3*sin(theta3) + 9*dtheta3**2*l2*l3*m3*sin(theta3),\n",
       " 6*M3)"
      ]
     },
     "execution_count": 142,
     "metadata": {},
     "output_type": "execute_result"
    }
   ],
   "source": [
    "D_matrix = Matrix([[D11, D12, D13], [D21, D22, D23], [D31, D32, D33]])\n",
    "C_matrix = Matrix([[C11, C12, C13], [C21, C22, C23], [C31, C32, C33]])  # Assuming C_i are scalars, not vectors\n",
    "G_matrix = Matrix([G1, G2, G3])\n",
    "\n",
    "# Define the ddtheta and dtheta vectors\n",
    "ddtheta_vector = Matrix([ddtheta1, ddtheta2, ddtheta3])\n",
    "dtheta_vector = Matrix([dtheta1, dtheta2, dtheta3])\n",
    "\n",
    "# Reconstruct the equations\n",
    "reconstructed_eq1 = (D_matrix.row(0).dot(ddtheta_vector) + C_matrix[0]*dtheta_vector[0] + G_matrix[0]*g)\n",
    "reconstructed_eq2 = (D_matrix.row(1).dot(ddtheta_vector) + C_matrix[1]*dtheta_vector[1] + G_matrix[1]*g)\n",
    "reconstructed_eq3 = (D_matrix.row(2).dot(ddtheta_vector) + C_matrix[2]*dtheta_vector[2] + G_matrix[2]*g)\n",
    "\n",
    "# Now compare the reconstructed equations with the original expanded equations\n",
    "eq1_match = simplify(reconstructed_eq1 - eq1) == 0\n",
    "eq2_match = simplify(reconstructed_eq2 - eq2) == 0\n",
    "eq3_match = simplify(reconstructed_eq3 - eq3) == 0\n",
    "\n",
    "eq1_match = simplify(reconstructed_eq1 - expanded_eq1)\n",
    "eq2_match = simplify(reconstructed_eq2 - expanded_eq2)\n",
    "eq3_match = simplify(reconstructed_eq3 - expanded_eq3)\n",
    "\n",
    "eq1_match, eq2_match, eq3_match"
   ]
  },
  {
   "cell_type": "code",
   "execution_count": 143,
   "metadata": {},
   "outputs": [
    {
     "data": {
      "text/plain": [
       "(False, False, False)"
      ]
     },
     "execution_count": 143,
     "metadata": {},
     "output_type": "execute_result"
    }
   ],
   "source": [
    "simplified_original_eq1 = simplify(eq1)\n",
    "simplified_reconstructed_eq1 = simplify(reconstructed_eq1)\n",
    "\n",
    "simplified_original_eq2 = simplify(eq2)\n",
    "simplified_reconstructed_eq2 = simplify(reconstructed_eq2)\n",
    "\n",
    "simplified_original_eq3 = simplify(eq3)\n",
    "simplified_reconstructed_eq3 = simplify(reconstructed_eq3)\n",
    "\n",
    "# Now compare the simplified equations\n",
    "eq1_match = simplified_reconstructed_eq1 == simplified_original_eq1\n",
    "eq2_match = simplified_reconstructed_eq2 == simplified_original_eq2\n",
    "eq3_match = simplified_reconstructed_eq3 == simplified_original_eq3\n",
    "\n",
    "eq1_match, eq2_match, eq3_match"
   ]
  },
  {
   "cell_type": "code",
   "execution_count": 14,
   "metadata": {},
   "outputs": [
    {
     "data": {
      "text/latex": [
       "$\\displaystyle - 5 c + \\left(3 a + 4 b\\right)$"
      ],
      "text/plain": [
       "-5*c + (3*a + 4*b)"
      ]
     },
     "execution_count": 14,
     "metadata": {},
     "output_type": "execute_result"
    }
   ],
   "source": [
    "# Example LaTeX string\n",
    "latex_string = r\"3a + 4b - 5c\"\n",
    "\n",
    "# Convert LaTeX string to a SymPy expression\n",
    "expr = parse_latex(latex_string)\n",
    "\n",
    "# Output the expression\n",
    "expr"
   ]
  },
  {
   "cell_type": "code",
   "execution_count": 119,
   "metadata": {},
   "outputs": [
    {
     "name": "stdout",
     "output_type": "stream",
     "text": [
      "\n",
      "3g l_3 m_3 \\cos(\\theta_1 + \\theta_2 + \\theta_3) + 3g l_2 (m_2 + 2m_3) \\cos(\\theta_1 + \\theta_2) + \n",
      "3g l_1 (m_1 + 2(m_2 + m_3)) \\cos(\\theta_1) - 2l_3 m_3 [l_1 (dtheta2 + \\theta_3) (2dtheta1 + dtheta2 + dtheta3)) \\sin(\\theta_2 + \\theta_3) +\n",
      "l_2 dtheta3 (2(dtheta1 + dtheta2) + dtheta3) \\sin(\\theta_3) ] - 3l_1 l_2 (m_2 + 2m_3) dtheta2 (2dtheta1 + dtheta2) \\sin(\\theta_2) +\n",
      "l_3 m_3 ddtheta3 (3l_1 \\cos(\\theta_2 + \\theta_3) + 3l_2 \\cos(\\theta_3) + 2l_3) + 6ddtheta1 \\[ l_2 l_1 (m_2 + 2m_3) \\cos(\\theta_1) +\n",
      "l_3 m_3 ( l_1 \\cos(\\theta_2 + \\theta_3) + l_2 \\cos(\\theta_3) + \\frac{l_3}{3} \\right) + l_1^2 ( \\frac{m_1}{3} + m_2 + m_3 \\right) + l_2^2 ( \\frac{m_2}{3} + m_3 \\right)  \\] +\n",
      "6ddtheta2 [ l_1 l_2 ( \\frac{m_2}{2} + m_3 \\right) \\cos(\\theta_2) + \\frac{1/6} l_3 m_3 ( 3l_1 \\cos(\\theta_2 + \\theta_3) + 6l_2 \\cos(\\theta_3) + 2l_3 \\right) + l_2^2 ( \\frac{m_2}{3} + m_3 \\right) \\right] = 6M_1\n",
      "\n"
     ]
    },
    {
     "data": {
      "text/latex": [
       "$\\displaystyle - 2 l_{3} m_{3} + \\left(3 g l_{1}{\\left(m_{1} + 2 \\left(m_{2} + m_{3}\\right) \\right)} \\cos{\\left(theta_{1} \\right)} + \\left(3 g l_{2}{\\left(m_{2} + 2 m_{3} \\right)} \\cos{\\left(theta_{1} + theta_{2} \\right)} + 3 g l_{3} m_{3} \\cos{\\left(theta_{3} + \\left(theta_{1} + theta_{2}\\right) \\right)}\\right)\\right)$"
      ],
      "text/plain": [
       "-2*l_{3}*m_{3} + (3*(g*(l_{1}(m_{1} + 2*(m_{2} + m_{3}))*cos(theta_{1}))) + (3*(g*(l_{2}(m_{2} + 2*m_{3})*cos(theta_{1} + theta_{2}))) + 3*(g*(l_{3}*(m_{3}*cos(theta_{3} + (theta_{1} + theta_{2})))))))"
      ]
     },
     "execution_count": 119,
     "metadata": {},
     "output_type": "execute_result"
    }
   ],
   "source": [
    "def parse_overleaf_latex(latex_str):\n",
    "    cleaned_str = latex_str.replace('&', '').replace('\\\\\\\\', '').replace('Bigg', '').replace('\\right', '').replace('\\left', '')\n",
    "    \n",
    "    cleaned_str = cleaned_str.replace(r'\\dot{\\theta}_1', 'dtheta1').replace(r'\\dot{\\theta}_2', 'dtheta2').replace(r'\\dot{\\theta}_3', 'dtheta3')\n",
    "    cleaned_str = cleaned_str.replace(r'\\ddot{\\theta}_1', 'ddtheta1').replace(r'\\ddot{\\theta}_2', 'ddtheta2').replace(r'\\ddot{\\theta}_3', 'ddtheta3')\n",
    "    print(cleaned_str)\n",
    "    return parse_latex(cleaned_str)\n",
    "\n",
    "# Example usage\n",
    "latex_string = r\"\"\"\n",
    "3g l_3 m_3 \\cos(\\theta_1 + \\theta_2 + \\theta_3) + 3g l_2 (m_2 + 2m_3) \\cos(\\theta_1 + \\theta_2) + \n",
    "3g l_1 (m_1 + 2(m_2 + m_3)) \\cos(\\theta_1) - 2l_3 m_3 [l_1 (\\dot{\\theta}_2 + \\theta_3) (2\\dot{\\theta}_1 + \\dot{\\theta}_2 + \\dot{\\theta}_3)) \\sin(\\theta_2 + \\theta_3) +\n",
    "l_2 \\dot{\\theta}_3 (2(\\dot{\\theta}_1 + \\dot{\\theta}_2) + \\dot{\\theta}_3) \\sin(\\theta_3) ] - 3l_1 l_2 (m_2 + 2m_3) \\dot{\\theta}_2 (2\\dot{\\theta}_1 + \\dot{\\theta}_2) \\sin(\\theta_2) +\n",
    "l_3 m_3 \\ddot{\\theta}_3 (3l_1 \\cos(\\theta_2 + \\theta_3) + 3l_2 \\cos(\\theta_3) + 2l_3) + 6\\ddot{\\theta}_1 \\Bigg[ l_2 l_1 (m_2 + 2m_3) \\cos(\\theta_1) +\n",
    "l_3 m_3 \\left( l_1 \\cos(\\theta_2 + \\theta_3) + l_2 \\cos(\\theta_3) + \\frac{l_3}{3} \\right) + l_1^2 \\left( \\frac{m_1}{3} + m_2 + m_3 \\right) + l_2^2 \\left( \\frac{m_2}{3} + m_3 \\right)  \\Bigg] +\n",
    "6\\ddot{\\theta}_2 \\left[ l_1 l_2 \\left( \\frac{m_2}{2} + m_3 \\right) \\cos(\\theta_2) + \\frac{1/6} l_3 m_3 \\left( 3l_1 \\cos(\\theta_2 + \\theta_3) + 6l_2 \\cos(\\theta_3) + 2l_3 \\right) + l_2^2 \\left( \\frac{m_2}{3} + m_3 \\right) \\right] = 6M_1\n",
    "\"\"\"\n",
    "\n",
    "parsed_expr = parse_overleaf_latex(latex_string)\n",
    "parsed_expr"
   ]
  },
  {
   "cell_type": "code",
   "execution_count": 30,
   "metadata": {},
   "outputs": [
    {
     "name": "stdout",
     "output_type": "stream",
     "text": [
      "Eq(l_{3}*(m_{3}*(Big*(6*(dd*(t*(h*(e*(t*(a*(2*(Big*(3*(l_{2}*cos(theta_{3})) + 2*l_{3}))))))))) + (6*(dd*(t*(h*(e*(t*(a*(1*(2*l_{2} + (3*(l_{1}*cos(theta_{2} + theta_{3})) + 3*(l_{2}*cos(theta_{3}))))))))))) + (3*(g*cos(theta_{3} + (theta_{1} + theta_{2}))) + 12*(l_{2}*(dd*(t*(h*(e*(t*(a*3)))))))))))), 6*M_{3})\n"
     ]
    }
   ],
   "source": [
    "g, l1, l2, l3, m1, m2, m3, M1, M2, M3 = symbols('g l1 l2 l3 m1 m2 m3 M1 M2 M3')\n",
    "theta1, theta2, theta3, dtheta1, dtheta2, dtheta3, ddtheta1, ddtheta2, ddtheta3 = symbols(\n",
    "    'theta1 theta2 theta3 dtheta1 dtheta2 dtheta3 ddtheta1 ddtheta2 ddtheta3')\n",
    "\n",
    "eq1 = r\"\"\"\n",
    "&3g l_3 m_3 \\cos(\\theta_1 + \\theta_2 + \\theta_3) + 3g l_2 (m_2 + 2m_3) \\cos(\\theta_1 + \\theta_2) + &\\\\\n",
    "&3g l_1 (m_1 + 2(m_2 + m_3)) \\cos(\\theta_1) - 2l_3 m_3 [l_1 (\\dot{\\theta}_2 + \\theta_3) (2\\dot{\\theta}_1 + \\dot{\\theta}_2 + \\dot{\\theta}_3)) \\sin(\\theta_2 + \\theta_3) + &\\\\\n",
    "&l_2 \\dot{\\theta}_3 (2(\\dot{\\theta}_1 + \\dot{\\theta}_2) + \\dot{\\theta}_3) \\sin(\\theta_3) ] - 3l_1 l_2 (m_2 + 2m_3) \\dot{\\theta}_2 (2\\dot{\\theta}_1 + \\dot{\\theta}_2) \\sin(\\theta_2) + &\\\\\n",
    "&l_3 m_3 \\ddot{\\theta}_3 (3l_1 \\cos(\\theta_2 + \\theta_3) + 3l_2 \\cos(\\theta_3) + 2l_3) + 6\\ddot{\\theta}_1 \\Bigg[ l_2 l_1 (m_2 + 2m_3) \\cos(\\theta_1) +&\\\\\n",
    "&l_3 m_3 \\left( l_1 \\cos(\\theta_2 + \\theta_3) + l_2 \\cos(\\theta_3) + \\frac{l_3}{3} \\right) + l_1^2 \\left( \\frac{m_1}{3} + m_2 + m_3 \\right) + l_2^2 \\left( \\frac{m_2}{3} + m_3 \\right)  \\Bigg] +&\\\\\n",
    "&6\\ddot{\\theta}_2 \\left[ l_1 l_2 \\left( \\frac{m_2}{2} + m_3 \\right) \\cos(\\theta_2) + \\frac{1}{6} l_3 m_3 \\left( 3l_1 \\cos(\\theta_2 + \\theta_3) + 6l_2 \\cos(\\theta_3) + 2l_3 \\right) + l_2^2 \\left( \\frac{m_2}{3} + m_3 \\right) \\right] = 6M_1 &\n",
    "\"\"\"\n",
    "\n",
    "eq2 = r\"\"\"\n",
    "& 3g l_3 m_3 \\cos(\\theta_1 + \\theta_2 + \\theta_3) + 3g l_2 (m_2 + 2m_3) \\cos(\\theta_1 + \\theta_2) + 3l_1 l_2(m_2 + 2m_3) \\dot{\\theta}_1^2 \\sin(\\theta_2) - &\\\\\n",
    "& 3l_3 m_3 \\left[ l_2 \\dot{\\theta}_3(2\\dot{\\theta}_1 + 3\\dot{\\theta}_3) \\sin(\\theta_3) - l_1 \\dot{\\theta}_1^2 \\sin(\\theta_2 + \\theta_3) \\right] + 6\\ddot{\\theta}_1 \\Bigg[ l_1 l_2 \\left( \\frac{m_2}{2} + m_3 \\right) \\cos(\\theta_2) + &\\\\\n",
    "& \\frac{1}{6} l_3 m_3 \\left( 3l_1 \\cos(\\theta_2 + \\theta_3) + 6l_2 \\cos(\\theta_3) + 2l_3 \\right) + l_2^2 \\left( \\frac{m_2}{3} + m_3 \\right) \\Bigg] + &\\\\\n",
    "& 2\\ddot{\\theta}_2 \\left( 3l_3 l_2 m_3 \\cos(\\theta_3) + l_2^2 (m_2 + 3m_3) + l_2^2 m_3 \\right) + l_3 m_3 \\ddot{\\theta}_3 (3l_2 \\cos(\\theta_3) + 2l_3) = 6M_2 &\n",
    "\"\"\"\n",
    "\n",
    "eq3 = r\"\"\"\n",
    "& l_3 m_3 \\Big[3 g \\cos(\\theta_1 + \\theta_2 + \\theta_3) + 12 l_2 \\ddot{\\theta}_3 + &\\\\\n",
    "& 6 \\ddot{\\theta}_1 (3 l_1 \\cos(\\theta_2 + \\theta_3) + 3 l_2 \\cos(\\theta_3) + 2 l_2) + 6 \\ddot{\\theta}_2 (3 l_2 \\cos(\\theta_3) + 2 l_3)\\Big] = 6 M_3&\n",
    "\"\"\"\n",
    "\n",
    "parsed_eq1 = parse_overleaf_latex(eq1)\n",
    "parsed_eq2 = parse_overleaf_latex(eq2)\n",
    "parsed_eq3 = parse_overleaf_latex(eq3)\n",
    "print(parsed_eq3)\n",
    "def ensure_equation(parsed_obj):\n",
    "    if isinstance(parsed_obj, Eq):\n",
    "        return parsed_obj.lhs, parsed_obj.rhs\n",
    "    elif isinstance(parsed_obj, Add):\n",
    "        return parsed_obj, 0  # Treat the entire expression as lhs, and 0 as rhs\n",
    "    else:\n",
    "        raise ValueError(\"Parsed object is neither an Add nor an Eq.\")\n",
    "\n",
    "# Apply this function to each parsed equation\n",
    "lhs_eq1, rhs_eq1 = ensure_equation(parsed_eq1)\n",
    "lhs_eq2, rhs_eq2 = ensure_equation(parsed_eq2)\n",
    "lhs_eq3, rhs_eq3 = ensure_equation(parsed_eq3)\n",
    "\n",
    "# Now extract coefficients from the lhs of each equation\n",
    "D11, D12, D13 = lhs_eq1.coeff(ddtheta1), lhs_eq1.coeff(ddtheta2), lhs_eq1.coeff(ddtheta3)\n",
    "D21, D22, D23 = lhs_eq2.coeff(ddtheta1), lhs_eq2.coeff(ddtheta2), lhs_eq2.coeff(ddtheta3)\n",
    "D31, D32, D33 = lhs_eq3.coeff(ddtheta1), lhs_eq3.coeff(ddtheta2), lhs_eq3.coeff(ddtheta3)"
   ]
  },
  {
   "cell_type": "code",
   "execution_count": 29,
   "metadata": {},
   "outputs": [
    {
     "data": {
      "text/latex": [
       "$\\displaystyle - 2 l_{3} m_{3} + \\left(3 g l_{1}{\\left(m_{1} + 2 \\left(m_{2} + m_{3}\\right) \\right)} \\cos{\\left(theta_{1} \\right)} + \\left(3 g l_{2}{\\left(m_{2} + 2 m_{3} \\right)} \\cos{\\left(theta_{1} + theta_{2} \\right)} + 3 g l_{3} m_{3} \\cos{\\left(theta_{3} + \\left(theta_{1} + theta_{2}\\right) \\right)}\\right)\\right)$"
      ],
      "text/plain": [
       "-2*l_{3}*m_{3} + (3*(g*(l_{1}(m_{1} + 2*(m_{2} + m_{3}))*cos(theta_{1}))) + (3*(g*(l_{2}(m_{2} + 2*m_{3})*cos(theta_{1} + theta_{2}))) + 3*(g*(l_{3}*(m_{3}*cos(theta_{3} + (theta_{1} + theta_{2})))))))"
      ]
     },
     "execution_count": 29,
     "metadata": {},
     "output_type": "execute_result"
    }
   ],
   "source": [
    "lhs_eq1"
   ]
  }
 ],
 "metadata": {
  "kernelspec": {
   "display_name": "39fff-bo",
   "language": "python",
   "name": "python3"
  },
  "language_info": {
   "codemirror_mode": {
    "name": "ipython",
    "version": 3
   },
   "file_extension": ".py",
   "mimetype": "text/x-python",
   "name": "python",
   "nbconvert_exporter": "python",
   "pygments_lexer": "ipython3",
   "version": "3.9.17"
  }
 },
 "nbformat": 4,
 "nbformat_minor": 2
}

{
 "cells": [
  {
   "cell_type": "markdown",
   "id": "e1f7b55c-e4f4-44df-8605-f2f499ee9ca1",
   "metadata": {
    "tags": []
   },
   "source": [
    "## Inverse Dynamics of a Planar Two-Link RP Robot Arm"
   ]
  },
  {
   "cell_type": "code",
   "execution_count": 3,
   "id": "0bdcf560-0197-49f7-a2e8-dc1ec4ae43cd",
   "metadata": {
    "tags": []
   },
   "outputs": [],
   "source": [
    "from sympy import *\n",
    "from sympy.physics.mechanics import LagrangesMethod, dynamicsymbols\n",
    "import numpy as np\n",
    "from IPython.display import display, Markdown, Math\n",
    "import matplotlib.pyplot as plt\n",
    "%matplotlib inline"
   ]
  },
  {
   "cell_type": "code",
   "execution_count": 4,
   "id": "09d96865-70db-4e58-a1cc-ad6934d48033",
   "metadata": {
    "tags": []
   },
   "outputs": [],
   "source": [
    "def dispmath(lhs, rhs): display(Math(f'{lhs} = {latex(rhs)}'))"
   ]
  },
  {
   "cell_type": "code",
   "execution_count": 5,
   "id": "880d9a8d-d6ab-49e8-846a-a2428e399f1d",
   "metadata": {
    "tags": []
   },
   "outputs": [],
   "source": [
    "m1, m2, l1, l2, g, t = symbols('m1, m2, l1, l2, g, t')\n",
    "th1, th2 = dynamicsymbols('theta1, theta2')"
   ]
  },
  {
   "cell_type": "code",
   "execution_count": 6,
   "id": "63116841-e4d3-409f-83cd-54ca52675263",
   "metadata": {
    "tags": []
   },
   "outputs": [
    {
     "data": {
      "text/latex": [
       "$\\displaystyle x_1 = l_{1} \\cos{\\left(\\theta_{1}{\\left(t \\right)} \\right)}$"
      ],
      "text/plain": [
       "<IPython.core.display.Math object>"
      ]
     },
     "metadata": {},
     "output_type": "display_data"
    },
    {
     "data": {
      "text/latex": [
       "$\\displaystyle y_1 = l_{1} \\sin{\\left(\\theta_{1}{\\left(t \\right)} \\right)}$"
      ],
      "text/plain": [
       "<IPython.core.display.Math object>"
      ]
     },
     "metadata": {},
     "output_type": "display_data"
    },
    {
     "data": {
      "text/latex": [
       "$\\displaystyle x_2 = l_{1} \\cos{\\left(\\theta_{1}{\\left(t \\right)} \\right)} + l_{2} \\cos{\\left(\\theta_{2}{\\left(t \\right)} \\right)}$"
      ],
      "text/plain": [
       "<IPython.core.display.Math object>"
      ]
     },
     "metadata": {},
     "output_type": "display_data"
    },
    {
     "data": {
      "text/latex": [
       "$\\displaystyle y_2 = l_{1} \\sin{\\left(\\theta_{1}{\\left(t \\right)} \\right)} + l_{2} \\sin{\\left(\\theta_{2}{\\left(t \\right)} \\right)}$"
      ],
      "text/plain": [
       "<IPython.core.display.Math object>"
      ]
     },
     "metadata": {},
     "output_type": "display_data"
    }
   ],
   "source": [
    "x1 = l1*cos(th1); dispmath('x_1', x1)\n",
    "y1 = l1*sin(th1); dispmath('y_1', y1)\n",
    "x2 = x1 + l2*cos(th2); dispmath('x_2', x2)\n",
    "y2 = y1 + l2*sin(th2); dispmath('y_2', y2)"
   ]
  },
  {
   "cell_type": "code",
   "execution_count": 7,
   "id": "f05ef7f4-65d0-4881-a7ad-3812b611dc3d",
   "metadata": {
    "tags": []
   },
   "outputs": [
    {
     "data": {
      "text/latex": [
       "$\\displaystyle \\dot{x_1} = - l_{1} \\sin{\\left(\\theta_{1}{\\left(t \\right)} \\right)} \\frac{d}{d t} \\theta_{1}{\\left(t \\right)}$"
      ],
      "text/plain": [
       "<IPython.core.display.Math object>"
      ]
     },
     "metadata": {},
     "output_type": "display_data"
    },
    {
     "data": {
      "text/latex": [
       "$\\displaystyle \\dot{y_1} = l_{1} \\cos{\\left(\\theta_{1}{\\left(t \\right)} \\right)} \\frac{d}{d t} \\theta_{1}{\\left(t \\right)}$"
      ],
      "text/plain": [
       "<IPython.core.display.Math object>"
      ]
     },
     "metadata": {},
     "output_type": "display_data"
    },
    {
     "data": {
      "text/latex": [
       "$\\displaystyle \\dot{x_2} = - l_{1} \\sin{\\left(\\theta_{1}{\\left(t \\right)} \\right)} \\frac{d}{d t} \\theta_{1}{\\left(t \\right)} - l_{2} \\sin{\\left(\\theta_{2}{\\left(t \\right)} \\right)} \\frac{d}{d t} \\theta_{2}{\\left(t \\right)}$"
      ],
      "text/plain": [
       "<IPython.core.display.Math object>"
      ]
     },
     "metadata": {},
     "output_type": "display_data"
    },
    {
     "data": {
      "text/latex": [
       "$\\displaystyle \\dot{y_2} = l_{1} \\cos{\\left(\\theta_{1}{\\left(t \\right)} \\right)} \\frac{d}{d t} \\theta_{1}{\\left(t \\right)} + l_{2} \\cos{\\left(\\theta_{2}{\\left(t \\right)} \\right)} \\frac{d}{d t} \\theta_{2}{\\left(t \\right)}$"
      ],
      "text/plain": [
       "<IPython.core.display.Math object>"
      ]
     },
     "metadata": {},
     "output_type": "display_data"
    },
    {
     "data": {
      "text/latex": [
       "$\\displaystyle \\dot{v_1} = \\left(l_{1}^{2} \\sin^{2}{\\left(\\theta_{1}{\\left(t \\right)} \\right)} \\left(\\frac{d}{d t} \\theta_{1}{\\left(t \\right)}\\right)^{2} + l_{1}^{2} \\cos^{2}{\\left(\\theta_{1}{\\left(t \\right)} \\right)} \\left(\\frac{d}{d t} \\theta_{1}{\\left(t \\right)}\\right)^{2}\\right)^{0.5}$"
      ],
      "text/plain": [
       "<IPython.core.display.Math object>"
      ]
     },
     "metadata": {},
     "output_type": "display_data"
    },
    {
     "data": {
      "text/latex": [
       "$\\displaystyle \\dot{v_2} = \\left(\\left(- l_{1} \\sin{\\left(\\theta_{1}{\\left(t \\right)} \\right)} \\frac{d}{d t} \\theta_{1}{\\left(t \\right)} - l_{2} \\sin{\\left(\\theta_{2}{\\left(t \\right)} \\right)} \\frac{d}{d t} \\theta_{2}{\\left(t \\right)}\\right)^{2} + \\left(l_{1} \\cos{\\left(\\theta_{1}{\\left(t \\right)} \\right)} \\frac{d}{d t} \\theta_{1}{\\left(t \\right)} + l_{2} \\cos{\\left(\\theta_{2}{\\left(t \\right)} \\right)} \\frac{d}{d t} \\theta_{2}{\\left(t \\right)}\\right)^{2}\\right)^{0.5}$"
      ],
      "text/plain": [
       "<IPython.core.display.Math object>"
      ]
     },
     "metadata": {},
     "output_type": "display_data"
    }
   ],
   "source": [
    "x1d = x1.diff(t); dispmath('\\\\dot{x_1}', x1d)\n",
    "y1d = y1.diff(t); dispmath('\\\\dot{y_1}', y1d)\n",
    "x2d = x2.diff(t); dispmath('\\\\dot{x_2}', x2d)\n",
    "y2d = y2.diff(t); dispmath('\\\\dot{y_2}', y2d)\n",
    "v1 = (x1d**2 + y1d**2)**(1/2); dispmath('\\\\dot{v_1}', v1)\n",
    "v2 = (x2d**2 + y2d**2)**(1/2); dispmath('\\\\dot{v_2}', v2)"
   ]
  },
  {
   "cell_type": "markdown",
   "id": "3d1c7e0b-86a7-4a2d-a2d6-0648e899cebb",
   "metadata": {},
   "source": [
    "Introducing shorthands for derivatives:"
   ]
  },
  {
   "cell_type": "code",
   "execution_count": 45,
   "id": "50e98628-a01a-4d6c-9888-7357f34fac07",
   "metadata": {
    "tags": []
   },
   "outputs": [],
   "source": [
    "thd1 = Derivative(th1, t)\n",
    "thdd1 = Derivative(thd1, t)\n",
    "thd2 = Derivative(th2, t)\n",
    "thdd2 = Derivative(thd2, t)"
   ]
  },
  {
   "cell_type": "markdown",
   "id": "21c1aec1-93ee-4848-a36d-3695a4526b68",
   "metadata": {},
   "source": [
    "Computing the kinetic and potential energies:"
   ]
  },
  {
   "cell_type": "code",
   "execution_count": 11,
   "id": "2b1cb831-5712-471f-b303-030ebbd01539",
   "metadata": {
    "tags": []
   },
   "outputs": [
    {
     "data": {
      "text/latex": [
       "$\\displaystyle KE = \\frac{l_{1}^{2} m_{1} \\left(\\frac{d}{d t} \\theta_{1}{\\left(t \\right)}\\right)^{2}}{2} + \\frac{m_{2} \\left(l_{1}^{2} \\left(\\frac{d}{d t} \\theta_{1}{\\left(t \\right)}\\right)^{2} + 2 l_{1} l_{2} \\cos{\\left(\\theta_{1}{\\left(t \\right)} - \\theta_{2}{\\left(t \\right)} \\right)} \\frac{d}{d t} \\theta_{1}{\\left(t \\right)} \\frac{d}{d t} \\theta_{2}{\\left(t \\right)} + l_{2}^{2} \\left(\\frac{d}{d t} \\theta_{2}{\\left(t \\right)}\\right)^{2}\\right)}{2}$"
      ],
      "text/plain": [
       "<IPython.core.display.Math object>"
      ]
     },
     "metadata": {},
     "output_type": "display_data"
    },
    {
     "data": {
      "text/latex": [
       "$\\displaystyle PE = g l_{1} m_{1} \\sin{\\left(\\theta_{1}{\\left(t \\right)} \\right)} + g m_{2} \\left(l_{1} \\sin{\\left(\\theta_{1}{\\left(t \\right)} \\right)} + l_{2} \\sin{\\left(\\theta_{2}{\\left(t \\right)} \\right)}\\right)$"
      ],
      "text/plain": [
       "<IPython.core.display.Math object>"
      ]
     },
     "metadata": {},
     "output_type": "display_data"
    }
   ],
   "source": [
    "KE1 = simplify((m1*(x1d**2 + y1d**2)/2))\n",
    "KE2 = simplify((m2*(x2d**2 + y2d**2)/2))\n",
    "KE = KE1+KE2 \n",
    "\n",
    "PE1 = m1*g*y1\n",
    "PE2 = m2*g*y2\n",
    "PE = PE1 + PE2\n",
    "\n",
    "dispmath('KE', KE)\n",
    "dispmath('PE', PE)"
   ]
  },
  {
   "cell_type": "code",
   "execution_count": 12,
   "id": "23e44bc3-ba5c-4b22-83e1-ed87820b9cab",
   "metadata": {
    "tags": []
   },
   "outputs": [
    {
     "data": {
      "text/latex": [
       "$\\displaystyle L = - g l_{1} m_{1} \\sin{\\left(\\theta_{1}{\\left(t \\right)} \\right)} - g m_{2} \\left(l_{1} \\sin{\\left(\\theta_{1}{\\left(t \\right)} \\right)} + l_{2} \\sin{\\left(\\theta_{2}{\\left(t \\right)} \\right)}\\right) + \\frac{l_{1}^{2} m_{1} \\left(\\frac{d}{d t} \\theta_{1}{\\left(t \\right)}\\right)^{2}}{2} + \\frac{m_{2} \\left(l_{1}^{2} \\left(\\frac{d}{d t} \\theta_{1}{\\left(t \\right)}\\right)^{2} + 2 l_{1} l_{2} \\cos{\\left(\\theta_{1}{\\left(t \\right)} - \\theta_{2}{\\left(t \\right)} \\right)} \\frac{d}{d t} \\theta_{1}{\\left(t \\right)} \\frac{d}{d t} \\theta_{2}{\\left(t \\right)} + l_{2}^{2} \\left(\\frac{d}{d t} \\theta_{2}{\\left(t \\right)}\\right)^{2}\\right)}{2}$"
      ],
      "text/plain": [
       "<IPython.core.display.Math object>"
      ]
     },
     "metadata": {},
     "output_type": "display_data"
    }
   ],
   "source": [
    "L = simplify(KE - PE)\n",
    "dispmath('L', L)"
   ]
  },
  {
   "cell_type": "code",
   "execution_count": 14,
   "id": "fc1c09d9-88c7-4b71-9f9c-d2d2e18fed77",
   "metadata": {
    "tags": []
   },
   "outputs": [
    {
     "data": {
      "text/latex": [
       "$\\displaystyle \\begin{bmatrix} T \\\\ F \\end{bmatrix} = \\left[\\begin{matrix}g l_{1} m_{1} \\cos{\\left(\\theta_{1}{\\left(t \\right)} \\right)} + g l_{1} m_{2} \\cos{\\left(\\theta_{1}{\\left(t \\right)} \\right)} + l_{1}^{2} m_{1} \\frac{d^{2}}{d t^{2}} \\theta_{1}{\\left(t \\right)} + l_{1} l_{2} m_{2} \\sin{\\left(\\theta_{1}{\\left(t \\right)} - \\theta_{2}{\\left(t \\right)} \\right)} \\frac{d}{d t} \\theta_{1}{\\left(t \\right)} \\frac{d}{d t} \\theta_{2}{\\left(t \\right)} + \\frac{m_{2} \\cdot \\left(2 l_{1}^{2} \\frac{d^{2}}{d t^{2}} \\theta_{1}{\\left(t \\right)} - 2 l_{1} l_{2} \\left(\\frac{d}{d t} \\theta_{1}{\\left(t \\right)} - \\frac{d}{d t} \\theta_{2}{\\left(t \\right)}\\right) \\sin{\\left(\\theta_{1}{\\left(t \\right)} - \\theta_{2}{\\left(t \\right)} \\right)} \\frac{d}{d t} \\theta_{2}{\\left(t \\right)} + 2 l_{1} l_{2} \\cos{\\left(\\theta_{1}{\\left(t \\right)} - \\theta_{2}{\\left(t \\right)} \\right)} \\frac{d^{2}}{d t^{2}} \\theta_{2}{\\left(t \\right)}\\right)}{2}\\\\g l_{2} m_{2} \\cos{\\left(\\theta_{2}{\\left(t \\right)} \\right)} - l_{1} l_{2} m_{2} \\sin{\\left(\\theta_{1}{\\left(t \\right)} - \\theta_{2}{\\left(t \\right)} \\right)} \\frac{d}{d t} \\theta_{1}{\\left(t \\right)} \\frac{d}{d t} \\theta_{2}{\\left(t \\right)} + \\frac{m_{2} \\left(- 2 l_{1} l_{2} \\left(\\frac{d}{d t} \\theta_{1}{\\left(t \\right)} - \\frac{d}{d t} \\theta_{2}{\\left(t \\right)}\\right) \\sin{\\left(\\theta_{1}{\\left(t \\right)} - \\theta_{2}{\\left(t \\right)} \\right)} \\frac{d}{d t} \\theta_{1}{\\left(t \\right)} + 2 l_{1} l_{2} \\cos{\\left(\\theta_{1}{\\left(t \\right)} - \\theta_{2}{\\left(t \\right)} \\right)} \\frac{d^{2}}{d t^{2}} \\theta_{1}{\\left(t \\right)} + 2 l_{2}^{2} \\frac{d^{2}}{d t^{2}} \\theta_{2}{\\left(t \\right)}\\right)}{2}\\end{matrix}\\right]$"
      ],
      "text/plain": [
       "<IPython.core.display.Math object>"
      ]
     },
     "metadata": {},
     "output_type": "display_data"
    }
   ],
   "source": [
    "LM = LagrangesMethod(L, (th1, th2))\n",
    "eqns = LM.form_lagranges_equations()\n",
    "dispmath('\\\\begin{bmatrix} T \\\\\\\\ F \\\\end{bmatrix}', eqns)"
   ]
  },
  {
   "cell_type": "code",
   "execution_count": null,
   "metadata": {},
   "outputs": [],
   "source": []
  },
  {
   "cell_type": "code",
   "execution_count": null,
   "metadata": {},
   "outputs": [],
   "source": [
    "def g1_g2(t, th1, th2, dth1, dth2):\n",
    "    m1 = 1\n",
    "    m2 = 1\n",
    "    l1 = 1\n",
    "    l2 = 1\n",
    "    T1 = 0\n",
    "    T2 = 0\n",
    "    g = 9.981\n",
    "    Mdel = m2/(m1+m2)\n",
    "    \n",
    "    A = (Mdel*T1)/(m2*l1) - (Mdel*l2*dth2**2)*np.sin(th1-th2) - g*np.cos(th1) - Mdel*cos(th1-th2)*((T2/(m2*l2)) + l1*dth1**2*np.sin(th1-th2) - g*cos(th2))\n",
    "    B = l1*(1 - Mdel*np.cos(th1-th2)**2)\n",
    "    g1 = A/B\n",
    "    \n",
    "    C = (T2)/(m2*l2) + (l1*dth1**2)*np.sin(th1-th2) - g*np.cos(th2) - cos(th1-th2)*((T1/(m2*l1)) - Mdel*l2*dth2**2*np.sin(th1-th2) - g*cos(th1))\n",
    "    D = l2*(1 - Mdel*np.cos(th1-th2)**2)\n",
    "    g2 = C/D\n",
    "    return g1, g2"
   ]
  },
  {
   "cell_type": "code",
   "execution_count": 16,
   "metadata": {},
   "outputs": [],
   "source": [
    "def g1(t, u1, u2, u3, u4):\n",
    "    m1 = 1\n",
    "    m2 = 1\n",
    "    l1 = 1\n",
    "    l2 = 1\n",
    "    T1 = 0\n",
    "    T2 = 0\n",
    "    g = 9.981\n",
    "    Mdel = m2/(m1+m2)\n",
    "    \n",
    "    th1 = u1, th2 = u2\n",
    "    dth1 = u3, dth2 = u4\n",
    "    \n",
    "    A = (Mdel*T1)/(m2*l1) - (Mdel*l2*dth2**2)*np.sin(th1-th2) - g*np.cos(th1) - Mdel*cos(th1-th2)*((T2/(m2*l2)) + l1*dth1**2*np.sin(th1-th2) - g*cos(th2))\n",
    "    B = l1*(1 - Mdel*np.cos(th1-th2)**2)\n",
    "    g1 = A/B\n",
    "\n",
    "    return g1\n",
    "\n",
    "def g2(t, u1, u2, u3, u4):\n",
    "    m1 = 1\n",
    "    m2 = 1\n",
    "    l1 = 1\n",
    "    l2 = 1\n",
    "    T1 = 0\n",
    "    T2 = 0\n",
    "    g = 9.981\n",
    "    Mdel = m2/(m1+m2)\n",
    "    \n",
    "    th1 = u1, th2 = u2\n",
    "    dth1 = u3, dth2 = u4\n",
    "    \n",
    "    C = (T2)/(m2*l2) + (l1*dth1**2)*np.sin(th1-th2) - g*np.cos(th2) - cos(th1-th2)*((T1/(m2*l1)) - Mdel*l2*dth2**2*np.sin(th1-th2) - g*cos(th1))\n",
    "    D = l2*(1 - Mdel*np.cos(th1-th2)**2)\n",
    "    g2 = C/D\n",
    "    return g1, g2\n",
    "\n",
    "u1_0 = 0\n",
    "u2_0 = 0\n",
    "u3_0 = 0\n",
    "u4_0 = 0"
   ]
  },
  {
   "cell_type": "code",
   "execution_count": 30,
   "metadata": {},
   "outputs": [
    {
     "data": {
      "image/png": "[encoded data removed]",
      "text/plain": [
       "<Figure size 640x480 with 1 Axes>"
      ]
     },
     "metadata": {},
     "output_type": "display_data"
    }
   ],
   "source": [
    "import numpy as np\n",
    "from scipy.integrate import solve_ivp\n",
    "import matplotlib.pyplot as plt\n",
    "\n",
    "# Define the ODE system\n",
    "def odes(t, x):\n",
    "    m1, m2, l1, l2, g = 1, 1, 1, 1, 9.81\n",
    "    Mdel = m2 / (m1 + m2)\n",
    "\n",
    "    th1, th2, dth1, dth2 = x\n",
    "\n",
    "    A = -g * (2 * m1 + m2) * np.sin(th1) - m2 * g * np.sin(th1 - 2 * th2) - 2 * np.sin(th1 - th2) * m2 * (dth2**2 * l2 + dth1**2 * l1 * np.cos(th1 - th2))\n",
    "    B = l1 * (2 * m1 + m2 - m2 * np.cos(2 * th1 - 2 * th2))\n",
    "    ddth1 = A / B\n",
    "\n",
    "    C = 2 * np.sin(th1 - th2) * (dth1**2 * l1 * (m1 + m2) + g * (m1 + m2) * np.cos(th1) + dth2**2 * l2 * m2 * np.cos(th1 - th2))\n",
    "    D = l2 * (2 * m1 + m2 - m2 * np.cos(2 * th1 - 2 * th2))\n",
    "    ddth2 = C / D\n",
    "\n",
    "    return [dth1, dth2, ddth1, ddth2]\n",
    "\n",
    "# Initial conditions\n",
    "x0 = [1, 1, 0, 0]  # th1, th2, dth1, dth2\n",
    "\n",
    "# Time span\n",
    "t_span = [0, 10]  # for example, from 0 to 10 seconds\n",
    "\n",
    "# Solve the system\n",
    "sol = solve_ivp(odes, t_span, x0, method='RK45', t_eval=np.linspace(t_span[0], t_span[1], 300))\n",
    "\n",
    "# Plot the solutions\n",
    "plt.plot(sol.t, sol.y[0], label=r'$\\theta_1(t)$')\n",
    "plt.plot(sol.t, sol.y[1], label=r'$\\theta_2(t)$')\n",
    "plt.legend()\n",
    "plt.xlabel('Time')\n",
    "plt.ylabel('Angle')\n",
    "plt.title('Double Pendulum Simulation')\n",
    "plt.show()"
   ]
  },
  {
   "cell_type": "code",
   "execution_count": 44,
   "metadata": {},
   "outputs": [
    {
     "data": {
      "text/plain": [
       "array([[23.962],\n",
       "       [12.9810000000000]], dtype=object)"
      ]
     },
     "execution_count": 44,
     "metadata": {},
     "output_type": "execute_result"
    }
   ],
   "source": [
    "m1 = 1\n",
    "m2 = 1\n",
    "l1 = 1\n",
    "l2 = 1\n",
    "T1 = 0\n",
    "T2 = 0\n",
    "g = 9.981\n",
    "\n",
    "th1 = 0\n",
    "th2 = 0\n",
    "dth1 = 0\n",
    "dth2 = 0\n",
    "ddth1 = 1\n",
    "ddth2 = 2\n",
    "Theta = np.array([[th1, th2]]).T\n",
    "\n",
    "ddTheta = np.array([[ddth1], [ddth2]])\n",
    "dTheta = np.array([[dth1], [dth2]])\n",
    "\n",
    "M = np.array([[(m1 + m2)*l1**2, m2*l2*l2*np.cos(th1 - th2)],\n",
    "             [m2*l2*l2*np.cos(th1 - th2), m2*l2**2]])\n",
    "C = np.array([[m2*l1*l2*dth2**2*np.sin(th1-th2), -m2*l1*l2*th1**2*np.sin(th1-th2)]]).T\n",
    "G = np.array([[(m1 + m2)*g*l1*np.cos(th1), m2*g*l2*cos(th2)]]).T\n",
    "\n",
    "F = M @ ddTheta + C + G\n",
    "F"
   ]
  },
  {
   "cell_type": "code",
   "execution_count": 40,
   "metadata": {},
   "outputs": [
    {
     "data": {
      "text/plain": [
       "((2, 1), (2, 2))"
      ]
     },
     "execution_count": 40,
     "metadata": {},
     "output_type": "execute_result"
    }
   ],
   "source": [
    "np.array([[ddth1], [ddth2]]).shape, M.shape"
   ]
  },
  {
   "cell_type": "code",
   "execution_count": null,
   "metadata": {},
   "outputs": [],
   "source": [
    "def control_law(t, th1, th2, dth1, dth2):\n",
    "    # Placeholder for the actual control law.\n",
    "    # It should return an array-like structure with the control inputs for each joint, e.g.:\n",
    "    # return np.array([torque1, torque2])\n",
    "    return np.array([0, 0])  # This should be replaced with the actual control inputs.\n",
    "\n",
    "def g1_g2_with_control(t, th1, th2, dth1, dth2):\n",
    "    m1 = 1\n",
    "    m2 = 1\n",
    "    l1 = 1\n",
    "    l2 = 1\n",
    "    g = 9.981\n",
    "    Mdel = m2 / (m1 + m2)\n",
    "    \n",
    "    # Get control inputs from the control law\n",
    "    T = control_law(t, th1, th2, dth1, dth2)\n",
    "    T1, T2 = T\n",
    "    \n",
    "    # Dynamics equations with control torques applied\n",
    "    A = (Mdel * T1) / (m2 * l1) - (Mdel * l2 * dth2**2) * np.sin(th1 - th2) - g * np.cos(th1) - Mdel * np.cos(th1 - th2) * ((T2 / (m2 * l2)) + l1 * dth1**2 * np.sin(th1 - th2) - g * np.cos(th2))\n",
    "    B = l1 * (1 - Mdel * np.cos(th1 - th2)**2)\n",
    "    g1 = A / B\n",
    "    \n",
    "    C = (T2) / (m2 * l2) + (l1 * dth1**2) * np.sin(th1 - th2) - g * np.cos(th2) - np.cos(th1 - th2) * ((T1 / (m2 * l1)) - Mdel * l2 * dth2**2 * np.sin(th1 - th2) - g * np.cos(th1))\n",
    "    D = l2 * (1 - Mdel * np.cos(th1 - th2)**2)\n",
    "    g2 = C / D\n",
    "    \n",
    "    return g1, g2"
   ]
  },
  {
   "cell_type": "code",
   "execution_count": 59,
   "metadata": {},
   "outputs": [
    {
     "name": "stdout",
     "output_type": "stream",
     "text": [
      "Time: 3.00\r"
     ]
    },
    {
     "data": {
      "image/png": "[encoded data removed]",
      "text/plain": [
       "<Figure size 640x480 with 1 Axes>"
      ]
     },
     "metadata": {},
     "output_type": "display_data"
    }
   ],
   "source": [
    "def sliding_mode_control_law(th1, th2, dth1, dth2, lambda_value, K, x_set):\n",
    "    # Calculate the error and its derivative\n",
    "    e = np.array([th1, th2]) - x_set\n",
    "    de = np.array([dth1, dth2])  # Assuming desired velocity is zero\n",
    "    s = de + lambda_value * e\n",
    "    \n",
    "    # Control law\n",
    "    u = - lambda_value * e - K * np.sign(s)\n",
    "    return u\n",
    "\n",
    "# Redefine the odes function to include control\n",
    "def odes(t, x):\n",
    "    m1, m2, l1, l2, g = .8, .4, 1, .5, 9.81\n",
    "    Mdel = m2 / (m1 + m2)\n",
    "\n",
    "    th1, th2, dth1, dth2 = x\n",
    "    \n",
    "    # Set your control parameters and desired state\n",
    "    lambda_value = np.array([5, 5])  # Example values\n",
    "    K = np.array([15, 10])  # Example values\n",
    "    x_set = np.array([np.pi/4, np.pi/4])  # Desired state [th1_set, th2_set]\n",
    "    \n",
    "    # Calculate control inputs\n",
    "    u = sliding_mode_control_law(th1, th2, dth1, dth2, lambda_value, K, x_set)\n",
    "\n",
    "    # The control inputs u are the torques T1 and T2\n",
    "    T1, T2 = u\n",
    "\n",
    "    # Dynamic equations now include the control torques\n",
    "    A = -g * (2 * m1 + m2) * np.sin(th1) - m2 * g * np.sin(th1 - 2 * th2) - 2 * np.sin(th1 - th2) * m2 * (dth2**2 * l2 + dth1**2 * l1 * np.cos(th1 - th2)) + T1\n",
    "    B = l1 * (2 * m1 + m2 - m2 * np.cos(2 * th1 - 2 * th2))\n",
    "    ddth1 = A / B\n",
    "\n",
    "    C = 2 * np.sin(th1 - th2) * (dth1**2 * l1 * (m1 + m2) + g * (m1 + m2) * np.cos(th1) + dth2**2 * l2 * m2 * np.cos(th1 - th2)) + T2\n",
    "    D = l2 * (2 * m1 + m2 - m2 * np.cos(2 * th1 - 2 * th2))\n",
    "    ddth2 = C / D\n",
    "\n",
    "    return [dth1, dth2, ddth1, ddth2]\n",
    "\n",
    "def event(t, y):\n",
    "    print(f\"Time: {t:.2f}\", end=\"\\r\")  # Print progress\n",
    "    return 0  # This event is just for reporting and doesn't terminate the solver.\n",
    "\n",
    "# Set the event to be terminal or not and the direction\n",
    "event.terminal = False  # So it does not stop the integration when the event occurs\n",
    "event.direction = 0     # The event occurs regardless of the direction of the zero crossing\n",
    "\n",
    "t_span = [0, 3]\n",
    "# Setup the number of points for t_eval to control the output frequency\n",
    "t_eval_points = np.linspace(t_span[0], t_span[1], 50)\n",
    "\n",
    "# Solve the system, including the event\n",
    "sol = solve_ivp(odes, t_span, x0, method='RK45', t_eval=t_eval_points, events=event)\n",
    "\n",
    "# Plot the solutions\n",
    "plt.plot(sol.t, sol.y[0], label=r'$\\theta_1(t)$')\n",
    "plt.plot(sol.t, sol.y[1], label=r'$\\theta_2(t)$')\n",
    "plt.legend()\n",
    "plt.xlabel('Time')\n",
    "plt.ylabel('Angle')\n",
    "plt.title('Double Pendulum Simulation')\n",
    "plt.show()"
   ]
  },
  {
   "cell_type": "code",
   "execution_count": 57,
   "metadata": {},
   "outputs": [
    {
     "name": "stderr",
     "output_type": "stream",
     "text": [
      "/tmp/ipykernel_19087/4014386996.py:37: DeprecationWarning: Starting with ImageIO v3 the behavior of this function will switch to that of iio.v3.imread. To keep the current behavior (and make this warning disappear) use `import imageio.v2 as imageio` or call `imageio.v2.imread` directly.\n",
      "  image = imageio.imread(filename)\n"
     ]
    },
    {
     "data": {
      "text/plain": [
       "'robot_arm.gif'"
      ]
     },
     "execution_count": 57,
     "metadata": {},
     "output_type": "execute_result"
    }
   ],
   "source": [
    "import imageio\n",
    "def get_arm_positions(th1, th2, l1=1, l2=1):\n",
    "    # X and Y coordinates of the first segment\n",
    "    x1 = l1 * np.sin(th1)\n",
    "    y1 = l1 * np.cos(th1)\n",
    "    \n",
    "    # X and Y coordinates of the second segment\n",
    "    x2 = x1 + l2 * np.sin(th2)\n",
    "    y2 = y1 + l2 * np.cos(th2)\n",
    "    \n",
    "    return (0, 0), (x1, y1), (x2, y2)\n",
    "\n",
    "# Create frames for each timestep\n",
    "filenames = []\n",
    "for i in range(len(sol.t)):\n",
    "    th1, th2 = sol.y[0, i], sol.y[1, i]\n",
    "    positions = get_arm_positions(th1, th2)\n",
    "    \n",
    "    # Plotting the arm\n",
    "    plt.figure()\n",
    "    plt.plot([0, positions[1][0]], [0, positions[1][1]], 'r-') # First arm segment\n",
    "    plt.plot([positions[1][0], positions[2][0]], [positions[1][1], positions[2][1]], 'b-') # Second arm segment\n",
    "    plt.scatter(*zip(*positions), s=100) # Joints\n",
    "    plt.xlim([-2, 2])\n",
    "    plt.ylim([-2, 2])\n",
    "    plt.axis('off') # Turn off the axis\n",
    "    \n",
    "    # Save the frame\n",
    "    filename = f'pics/frame_{i}.png'\n",
    "    plt.savefig(filename)\n",
    "    plt.close()\n",
    "    filenames.append(filename)\n",
    "\n",
    "# Create a GIF\n",
    "with imageio.get_writer('robot_arm.gif', mode='I', duration=10/1000) as writer:\n",
    "    for filename in filenames:\n",
    "        image = imageio.imread(filename)\n",
    "        writer.append_data(image)\n",
    "\n",
    "# Output the path to the GIF\n",
    "gif_path = 'robot_arm.gif'\n",
    "gif_path"
   ]
  }
 ],
 "metadata": {
  "kernelspec": {
   "display_name": "Python 3 (ipykernel)",
   "language": "python",
   "name": "python3"
  },
  "language_info": {
   "codemirror_mode": {
    "name": "ipython",
    "version": 3
   },
   "file_extension": ".py",
   "mimetype": "text/x-python",
   "name": "python",
   "nbconvert_exporter": "python",
   "pygments_lexer": "ipython3",
   "version": "3.9.17"
  }
 },
 "nbformat": 4,
 "nbformat_minor": 5
}
